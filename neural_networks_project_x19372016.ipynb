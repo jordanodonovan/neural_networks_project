{
 "cells": [
  {
   "cell_type": "markdown",
   "id": "e6858946",
   "metadata": {},
   "source": [
    "# x19372016 - Jordan O'Donovan"
   ]
  },
  {
   "cell_type": "code",
   "execution_count": 31,
   "id": "efa17bdd",
   "metadata": {},
   "outputs": [],
   "source": [
    "import pandas as pd\n",
    "import numpy as np\n",
    "import keras\n",
    "from matplotlib import pyplot as plt\n",
    "from matplotlib.image import imread\n",
    "\n",
    "from keras.models import Sequential\n",
    "from keras.layers import Dense, Conv2D, Flatten"
   ]
  },
  {
   "cell_type": "code",
   "execution_count": 15,
   "id": "9d8ece6e",
   "metadata": {},
   "outputs": [],
   "source": [
    "import skimage"
   ]
  },
  {
   "cell_type": "code",
   "execution_count": 3,
   "id": "e6160375",
   "metadata": {},
   "outputs": [],
   "source": [
    "model = Sequential()"
   ]
  },
  {
   "cell_type": "code",
   "execution_count": 11,
   "id": "df029f1d",
   "metadata": {},
   "outputs": [],
   "source": [
    "labels = ['head', 'helmet']"
   ]
  },
  {
   "cell_type": "code",
   "execution_count": 18,
   "id": "40e9b3c9",
   "metadata": {},
   "outputs": [],
   "source": [
    "traindf  = pd.read_csv('Data/train/_annotations.csv')"
   ]
  },
  {
   "cell_type": "code",
   "execution_count": 19,
   "id": "1cab0874",
   "metadata": {
    "scrolled": false
   },
   "outputs": [
    {
     "data": {
      "text/html": [
       "<div>\n",
       "<style scoped>\n",
       "    .dataframe tbody tr th:only-of-type {\n",
       "        vertical-align: middle;\n",
       "    }\n",
       "\n",
       "    .dataframe tbody tr th {\n",
       "        vertical-align: top;\n",
       "    }\n",
       "\n",
       "    .dataframe thead th {\n",
       "        text-align: right;\n",
       "    }\n",
       "</style>\n",
       "<table border=\"1\" class=\"dataframe\">\n",
       "  <thead>\n",
       "    <tr style=\"text-align: right;\">\n",
       "      <th></th>\n",
       "      <th>filename</th>\n",
       "      <th>width</th>\n",
       "      <th>height</th>\n",
       "      <th>class</th>\n",
       "      <th>xmin</th>\n",
       "      <th>ymin</th>\n",
       "      <th>xmax</th>\n",
       "      <th>ymax</th>\n",
       "    </tr>\n",
       "  </thead>\n",
       "  <tbody>\n",
       "    <tr>\n",
       "      <th>0</th>\n",
       "      <td>004858_jpg.rf.002ab521984d81c7400faa6f916f5a01...</td>\n",
       "      <td>500</td>\n",
       "      <td>375</td>\n",
       "      <td>head</td>\n",
       "      <td>301</td>\n",
       "      <td>100</td>\n",
       "      <td>330</td>\n",
       "      <td>135</td>\n",
       "    </tr>\n",
       "    <tr>\n",
       "      <th>1</th>\n",
       "      <td>004858_jpg.rf.002ab521984d81c7400faa6f916f5a01...</td>\n",
       "      <td>500</td>\n",
       "      <td>375</td>\n",
       "      <td>head</td>\n",
       "      <td>340</td>\n",
       "      <td>121</td>\n",
       "      <td>370</td>\n",
       "      <td>158</td>\n",
       "    </tr>\n",
       "    <tr>\n",
       "      <th>2</th>\n",
       "      <td>004858_jpg.rf.002ab521984d81c7400faa6f916f5a01...</td>\n",
       "      <td>500</td>\n",
       "      <td>375</td>\n",
       "      <td>head</td>\n",
       "      <td>199</td>\n",
       "      <td>111</td>\n",
       "      <td>223</td>\n",
       "      <td>137</td>\n",
       "    </tr>\n",
       "    <tr>\n",
       "      <th>3</th>\n",
       "      <td>004858_jpg.rf.002ab521984d81c7400faa6f916f5a01...</td>\n",
       "      <td>500</td>\n",
       "      <td>375</td>\n",
       "      <td>head</td>\n",
       "      <td>277</td>\n",
       "      <td>109</td>\n",
       "      <td>295</td>\n",
       "      <td>132</td>\n",
       "    </tr>\n",
       "    <tr>\n",
       "      <th>4</th>\n",
       "      <td>004858_jpg.rf.002ab521984d81c7400faa6f916f5a01...</td>\n",
       "      <td>500</td>\n",
       "      <td>375</td>\n",
       "      <td>head</td>\n",
       "      <td>154</td>\n",
       "      <td>116</td>\n",
       "      <td>174</td>\n",
       "      <td>141</td>\n",
       "    </tr>\n",
       "    <tr>\n",
       "      <th>...</th>\n",
       "      <td>...</td>\n",
       "      <td>...</td>\n",
       "      <td>...</td>\n",
       "      <td>...</td>\n",
       "      <td>...</td>\n",
       "      <td>...</td>\n",
       "      <td>...</td>\n",
       "      <td>...</td>\n",
       "    </tr>\n",
       "    <tr>\n",
       "      <th>19753</th>\n",
       "      <td>002219_jpg.rf.ff42125c486dacdf0b881197b5500215...</td>\n",
       "      <td>500</td>\n",
       "      <td>352</td>\n",
       "      <td>helmet</td>\n",
       "      <td>248</td>\n",
       "      <td>74</td>\n",
       "      <td>290</td>\n",
       "      <td>131</td>\n",
       "    </tr>\n",
       "    <tr>\n",
       "      <th>19754</th>\n",
       "      <td>002219_jpg.rf.ff42125c486dacdf0b881197b5500215...</td>\n",
       "      <td>500</td>\n",
       "      <td>352</td>\n",
       "      <td>helmet</td>\n",
       "      <td>120</td>\n",
       "      <td>72</td>\n",
       "      <td>152</td>\n",
       "      <td>114</td>\n",
       "    </tr>\n",
       "    <tr>\n",
       "      <th>19755</th>\n",
       "      <td>002219_jpg.rf.ff42125c486dacdf0b881197b5500215...</td>\n",
       "      <td>500</td>\n",
       "      <td>352</td>\n",
       "      <td>helmet</td>\n",
       "      <td>288</td>\n",
       "      <td>70</td>\n",
       "      <td>317</td>\n",
       "      <td>106</td>\n",
       "    </tr>\n",
       "    <tr>\n",
       "      <th>19756</th>\n",
       "      <td>004208_jpg.rf.ff41745f0340f82a1b3d76d669e084a7...</td>\n",
       "      <td>640</td>\n",
       "      <td>510</td>\n",
       "      <td>helmet</td>\n",
       "      <td>418</td>\n",
       "      <td>69</td>\n",
       "      <td>639</td>\n",
       "      <td>293</td>\n",
       "    </tr>\n",
       "    <tr>\n",
       "      <th>19757</th>\n",
       "      <td>004208_jpg.rf.ff41745f0340f82a1b3d76d669e084a7...</td>\n",
       "      <td>640</td>\n",
       "      <td>510</td>\n",
       "      <td>helmet</td>\n",
       "      <td>16</td>\n",
       "      <td>75</td>\n",
       "      <td>237</td>\n",
       "      <td>296</td>\n",
       "    </tr>\n",
       "  </tbody>\n",
       "</table>\n",
       "<p>19758 rows × 8 columns</p>\n",
       "</div>"
      ],
      "text/plain": [
       "                                                filename  width  height  \\\n",
       "0      004858_jpg.rf.002ab521984d81c7400faa6f916f5a01...    500     375   \n",
       "1      004858_jpg.rf.002ab521984d81c7400faa6f916f5a01...    500     375   \n",
       "2      004858_jpg.rf.002ab521984d81c7400faa6f916f5a01...    500     375   \n",
       "3      004858_jpg.rf.002ab521984d81c7400faa6f916f5a01...    500     375   \n",
       "4      004858_jpg.rf.002ab521984d81c7400faa6f916f5a01...    500     375   \n",
       "...                                                  ...    ...     ...   \n",
       "19753  002219_jpg.rf.ff42125c486dacdf0b881197b5500215...    500     352   \n",
       "19754  002219_jpg.rf.ff42125c486dacdf0b881197b5500215...    500     352   \n",
       "19755  002219_jpg.rf.ff42125c486dacdf0b881197b5500215...    500     352   \n",
       "19756  004208_jpg.rf.ff41745f0340f82a1b3d76d669e084a7...    640     510   \n",
       "19757  004208_jpg.rf.ff41745f0340f82a1b3d76d669e084a7...    640     510   \n",
       "\n",
       "        class  xmin  ymin  xmax  ymax  \n",
       "0        head   301   100   330   135  \n",
       "1        head   340   121   370   158  \n",
       "2        head   199   111   223   137  \n",
       "3        head   277   109   295   132  \n",
       "4        head   154   116   174   141  \n",
       "...       ...   ...   ...   ...   ...  \n",
       "19753  helmet   248    74   290   131  \n",
       "19754  helmet   120    72   152   114  \n",
       "19755  helmet   288    70   317   106  \n",
       "19756  helmet   418    69   639   293  \n",
       "19757  helmet    16    75   237   296  \n",
       "\n",
       "[19758 rows x 8 columns]"
      ]
     },
     "execution_count": 19,
     "metadata": {},
     "output_type": "execute_result"
    }
   ],
   "source": [
    "traindf"
   ]
  },
  {
   "cell_type": "code",
   "execution_count": 29,
   "id": "446188d8",
   "metadata": {
    "scrolled": false
   },
   "outputs": [
    {
     "data": {
      "image/png": "[encoded data removed]",
      "text/plain": [
       "<Figure size 640x480 with 1 Axes>"
      ]
     },
     "metadata": {},
     "output_type": "display_data"
    }
   ],
   "source": [
    "plt.hist(traindf['class'])\n",
    "plt.show()"
   ]
  },
  {
   "cell_type": "code",
   "execution_count": null,
   "id": "ecfa747a",
   "metadata": {},
   "outputs": [],
   "source": [
    "#folder \n",
    "for i in range(9):\n",
    " # define subplot\n",
    " pyplot.subplot(330 + 1 + i)\n",
    " # define filename\n",
    " filename = 'Data/train' + 'dog.' + str(i) + '.jpg'\n",
    " # load image pixels\n",
    " image = imread(filename)\n",
    " # plot raw pixel data\n",
    " pyplot.imshow(image)\n",
    "# show the figure\n",
    "pyplot.show()"
   ]
  }
 ],
 "metadata": {
  "kernelspec": {
   "display_name": "Python 3 (ipykernel)",
   "language": "python",
   "name": "python3"
  },
  "language_info": {
   "codemirror_mode": {
    "name": "ipython",
    "version": 3
   },
   "file_extension": ".py",
   "mimetype": "text/x-python",
   "name": "python",
   "nbconvert_exporter": "python",
   "pygments_lexer": "ipython3",
   "version": "3.9.12"
  }
 },
 "nbformat": 4,
 "nbformat_minor": 5
}
